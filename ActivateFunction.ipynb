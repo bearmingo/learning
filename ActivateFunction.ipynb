{
  "nbformat": 4,
  "nbformat_minor": 0,
  "metadata": {
    "colab": {
      "name": "ActivateFunction.ipynb",
      "version": "0.3.2",
      "provenance": [],
      "collapsed_sections": [],
      "include_colab_link": true
    },
    "kernelspec": {
      "name": "python3",
      "display_name": "Python 3"
    }
  },
  "cells": [
    {
      "cell_type": "markdown",
      "metadata": {
        "id": "view-in-github",
        "colab_type": "text"
      },
      "source": [
        "<a href=\"https://colab.research.google.com/github/bearmingo/learning/blob/master/ActivateFunction.ipynb\" target=\"_parent\"><img src=\"https://colab.research.google.com/assets/colab-badge.svg\" alt=\"Open In Colab\"/></a>"
      ]
    },
    {
      "cell_type": "markdown",
      "metadata": {
        "id": "BO6QNsOZ2NJA",
        "colab_type": "text"
      },
      "source": [
        "# Activate Functions\n",
        "\n",
        "\n",
        "## 分类\n",
        "激活函数分两类：饱和函数和非饱和函数\n",
        "\n",
        "饱和函数:\n",
        "- sigmoid\n",
        "-tanh\n",
        "\n",
        "非饱和函数:\n",
        "- ReLU\n",
        "- PReLU"
      ]
    },
    {
      "cell_type": "code",
      "metadata": {
        "id": "esEmPj7E1j3Y",
        "colab_type": "code",
        "colab": {}
      },
      "source": [
        "%matplotlib inline\n",
        "import matplotlib.pyplot as plt\n",
        "import numpy as np"
      ],
      "execution_count": 0,
      "outputs": []
    },
    {
      "cell_type": "markdown",
      "metadata": {
        "id": "a88Fik8810HE",
        "colab_type": "text"
      },
      "source": [
        "## sigmod\n",
        "\n",
        "数学表达式：\n",
        "$$\n",
        "\\sigma = \\frac{1}{1+e^{-x}}\n",
        "$$\n",
        "\n",
        "导数\n",
        "$$\n",
        "S'(x)=\\frac{e^{-x}}{(1+e^x)^2}=S(x)\\big(1-s(x)\\big)\n",
        "$$"
      ]
    },
    {
      "cell_type": "code",
      "metadata": {
        "id": "-junD__G6Zmr",
        "colab_type": "code",
        "colab": {
          "base_uri": "https://localhost:8080/",
          "height": 259
        },
        "outputId": "1d5f9b9e-cdf4-468e-fc61-807bddc31144"
      },
      "source": [
        "def sigmoid(x):\n",
        "  return 1. / (1. + np.exp(-x))\n",
        "\n",
        "x = np.arange(-8, 8, 0.2)\n",
        "y = sigmoid(x)\n",
        "\n",
        "ax = plt.gca()\n",
        "ax.xaxis.set_ticks_position('bottom')\n",
        "ax.spines['bottom'].set_position(('data',0))\n",
        "ax.yaxis.set_ticks_position('left')\n",
        "ax.spines['left'].set_position(('data',0))\n",
        "\n",
        "plt.plot(x, y)\n",
        "plt.show()"
      ],
      "execution_count": 16,
      "outputs": [
        {
          "output_type": "display_data",
          "data": {
            "image/png": "[encoded data removed]",
            "text/plain": [
              "<Figure size 432x288 with 1 Axes>"
            ]
          },
          "metadata": {
            "tags": []
          }
        }
      ]
    },
    {
      "cell_type": "markdown",
      "metadata": {
        "id": "ZoakGYOg9Rmv",
        "colab_type": "text"
      },
      "source": [
        "## tanh\n",
        "数学表达式\n",
        "$$\n",
        "S(x)=\\frac{e^x - e^{-x}}{e^x+e^{-x}}\n",
        "$$\n",
        "\n",
        "导数\n"
      ]
    },
    {
      "cell_type": "code",
      "metadata": {
        "id": "BFYCu5zD-WFh",
        "colab_type": "code",
        "colab": {
          "base_uri": "https://localhost:8080/",
          "height": 255
        },
        "outputId": "336e8b5f-6596-4938-ebc2-8d578b55a34f"
      },
      "source": [
        "def tanh(x):\n",
        "  return (np.exp(x) - np.exp(-x)) / (np.exp(x) + np.exp(-x))\n",
        "\n",
        "\n",
        "x = np.arange(-4, 4, 0.2)\n",
        "y = tanh(x)\n",
        "\n",
        "ax = plt.gca()\n",
        "ax.xaxis.set_ticks_position('bottom')        # 设置坐标点在轴下侧\n",
        "ax.spines['bottom'].set_position(('data',0)) # 设置底部轴位置\n",
        "ax.yaxis.set_ticks_position('left')          # 设置坐标点在轴左侧\n",
        "ax.spines['left'].set_position(('data',0))   # 设置左侧轴位置\n",
        "\n",
        "plt.plot(x, y)\n",
        "plt.show()"
      ],
      "execution_count": 20,
      "outputs": [
        {
          "output_type": "display_data",
          "data": {
            "image/png": "[encoded data removed]",
            "text/plain": [
              "<Figure size 432x288 with 1 Axes>"
            ]
          },
          "metadata": {
            "tags": []
          }
        }
      ]
    },
    {
      "cell_type": "markdown",
      "metadata": {
        "id": "XR1qPGn-A4V_",
        "colab_type": "text"
      },
      "source": [
        "## ReLU\n",
        "### 数学表达式\n",
        "\n",
        "\n",
        "$$\n",
        "f(x)=\\left\\{\n",
        "  \\begin{array}{}\n",
        "    {x} & {\\text { if } x \\geq 0} \\\\ \n",
        "    {0} & {\\text { if } x<0}\n",
        "   \\end{array}\\right.\n",
        "$$"
      ]
    },
    {
      "cell_type": "code",
      "metadata": {
        "id": "1FUv1zkYBLmB",
        "colab_type": "code",
        "colab": {
          "base_uri": "https://localhost:8080/",
          "height": 259
        },
        "outputId": "8747cbf1-34a4-4d45-e027-880e78f777e4"
      },
      "source": [
        "def relu(x):\n",
        "  return np.where(x<0, 0, x)\n",
        "\n",
        "x = np.arange(-8, 8, 0.1)\n",
        "y = relu(x)\n",
        "\n",
        "ax = plt.gca()\n",
        "ax.xaxis.set_ticks_position('bottom')        # 设置坐标点在轴下侧\n",
        "ax.spines['bottom'].set_position(('data',0)) # 设置底部轴位置\n",
        "ax.yaxis.set_ticks_position('left')          # 设置坐标点在轴左侧\n",
        "ax.spines['left'].set_position(('data',0))   # 设置左侧轴位置\n",
        "\n",
        "plt.plot(x, y)\n",
        "plt.show()"
      ],
      "execution_count": 23,
      "outputs": [
        {
          "output_type": "display_data",
          "data": {
            "image/png": "[encoded data removed]",
            "text/plain": [
              "<Figure size 432x288 with 1 Axes>"
            ]
          },
          "metadata": {
            "tags": []
          }
        }
      ]
    },
    {
      "cell_type": "markdown",
      "metadata": {
        "id": "t2fIag8vBtl-",
        "colab_type": "text"
      },
      "source": [
        "## PReLU\n",
        "\n",
        "### 数学表达式\n",
        "$$\n",
        "f(x)=\\left\\{\n",
        "  \\begin{array}{}\n",
        "    {x} & {\\text { if } x \\geq 0} \\\\ \n",
        "    {ax} & {\\text { if } x<0}\n",
        "   \\end{array}\\right.\n",
        "$$"
      ]
    },
    {
      "cell_type": "code",
      "metadata": {
        "id": "iGRJksOVBwPn",
        "colab_type": "code",
        "colab": {
          "base_uri": "https://localhost:8080/",
          "height": 255
        },
        "outputId": "b1e95343-36b3-4705-bcca-ce7d5b60e996"
      },
      "source": [
        "def prelu(x):\n",
        "  return np.where(x<0, 0.5*x, x)\n",
        "\n",
        "x = np.arange(-8, 8, 0.1)\n",
        "y = prelu(x)\n",
        "\n",
        "ax = plt.gca()\n",
        "ax.xaxis.set_ticks_position('bottom')        # 设置坐标点在轴下侧\n",
        "ax.spines['bottom'].set_position(('data',0)) # 设置底部轴位置\n",
        "ax.yaxis.set_ticks_position('left')          # 设置坐标点在轴左侧\n",
        "ax.spines['left'].set_position(('data',0))   # 设置左侧轴位置\n",
        "\n",
        "plt.plot(x, y)\n",
        "plt.show()"
      ],
      "execution_count": 25,
      "outputs": [
        {
          "output_type": "display_data",
          "data": {
            "image/png": "[encoded data removed]",
            "text/plain": [
              "<Figure size 432x288 with 1 Axes>"
            ]
          },
          "metadata": {
            "tags": []
          }
        }
      ]
    }
  ]
}